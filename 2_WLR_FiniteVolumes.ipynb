{
 "cells": [
  {
   "cell_type": "markdown",
   "metadata": {},
   "source": [
    "## Lax-Freidrich Finite Volumes"
   ]
  },
  {
   "cell_type": "code",
   "execution_count": 12,
   "metadata": {},
   "outputs": [
    {
     "name": "stdout",
     "output_type": "stream",
     "text": [
      "Using matplotlib backend: Qt5Agg\n"
     ]
    },
    {
     "name": "stderr",
     "output_type": "stream",
     "text": [
      "C:\\Users\\btemo\\Anaconda3\\lib\\site-packages\\matplotlib\\backend_bases.py:2453: MatplotlibDeprecationWarning: Using default event loop until function specific to this GUI is implemented\n",
      "  warnings.warn(str, mplDeprecation)\n"
     ]
    }
   ],
   "source": [
    "import numpy as np\n",
    "import scipy as sc\n",
    "import matplotlib.pyplot as plt\n",
    "%matplotlib\n",
    "\n",
    "#Parameters\n",
    "Nx = 100\n",
    "Nt = 100\n",
    "L  = 1. # Total Length\n",
    "T  = 1. # Total intergration time\n",
    "dx = L/(Nx-1)\n",
    "dt = T/Nt\n",
    "\n",
    "#initial conditions:\n",
    "#Sin Wave\n",
    "p0 = 0.2 + 0.1*(np.sin(np.arange(0,2*np.pi,2*np.pi/Nx)))\n",
    "#Gaussian\n",
    "\n",
    "#constant and non-constant:\n",
    "#p0 = np.zeros(Nx)\n",
    "\n",
    "#plt.plot(p0)\n",
    "P = np.copy(p0)\n",
    "\n",
    "for i in np.arange(0,T,dt):\n",
    "    f = (1.-P)*P\n",
    "    P += -(dt/dx)*((0.5*(np.roll(f,-1)+f)-(dt/(2*dx))*(np.roll(P,-1)-P))-(0.5*(np.roll(f,1)+f)-(dt/(2*dx))*(P-np.roll(P,1)))) \n",
    "    line, = plt.plot(P)\n",
    "    plt.draw()\n",
    "    plt.title('Time = ' + str(i) + ' Total Cars = ' + str(np.sum(P)))\n",
    "    plt.pause(0.01)\n",
    "    line.remove()\n",
    "plt.close()"
   ]
  },
  {
   "cell_type": "markdown",
   "metadata": {},
   "source": [
    " $$ u_i^{n+1} = u^n_i - \\frac{\\Delta t}{ \\Delta x} \\left( \\hat{f}^n_{i+1/2} - \\hat{f}^n_{i-1/2} \\right) $$\n",
    " \n",
    "$$ {\\displaystyle {\\hat {f}}_{i-1/2}^{n}={\\frac {1}{2}}\\left(f_{i-1}+f_{i}\\right)-{\\frac {\\Delta x}{2\\Delta t}}\\left(u_{i}^{n}-u_{i-1}^{n}\\right).}  \\hat{f}^n_{i-1/2} = \\frac{1}{2} \\left( f_{i-1} + f_{i} \\right) - \\frac{ \\Delta x}{ 2 \\Delta t  } \\left( u^n_{i} - u^n_{i-1} \\right) $$ "
   ]
  },
  {
   "cell_type": "markdown",
   "metadata": {},
   "source": [
    "## Lax-Wendroff Finite Volumes"
   ]
  },
  {
   "cell_type": "code",
   "execution_count": 16,
   "metadata": {},
   "outputs": [
    {
     "name": "stderr",
     "output_type": "stream",
     "text": [
      "C:\\Users\\btemo\\Anaconda3\\lib\\site-packages\\matplotlib\\backend_bases.py:2453: MatplotlibDeprecationWarning: Using default event loop until function specific to this GUI is implemented\n",
      "  warnings.warn(str, mplDeprecation)\n"
     ]
    }
   ],
   "source": [
    "#Parameters\n",
    "Nx = 100\n",
    "Nt = 100\n",
    "L  = 1. # Total Length\n",
    "T  = 1. # Total intergration time\n",
    "dx = L/(Nx-1)\n",
    "dt = T/Nt\n",
    "\n",
    "#initial conditions:\n",
    "#Sin Wave\n",
    "p0 = 0.2 + 0.1*(np.sin(np.arange(0,2*np.pi,2*np.pi/Nx)))\n",
    "#Gaussian\n",
    "\n",
    "#constant and non-constant:\n",
    "#p0 = np.zeros(Nx)\n",
    "\n",
    "#plt.plot(p0)\n",
    "P = np.copy(p0)\n",
    "\n",
    "for i in np.arange(0,10,dt):\n",
    "    f = (1.-P)*P\n",
    "    Uplus = 0.5*(np.roll(P,-1)+P) - (dt/(2*dx))*(np.roll(f,-1)-f)\n",
    "    Uminus = 0.5*(np.roll(P,1)+P) - (dt/(2*dx))*(-np.roll(f,1)+f)\n",
    "    P += -(dt/dx)*((1-Uplus)*Uplus - (1-Uminus)*Uminus)\n",
    "    line, = plt.plot(P)\n",
    "    plt.draw()\n",
    "    plt.title('Time = ' + str(i) + ' Total Cars = ' + str(np.sum(P)))\n",
    "    plt.pause(0.01)\n",
    "    line.remove()\n",
    "plt.close()"
   ]
  },
  {
   "cell_type": "markdown",
   "metadata": {},
   "source": [
    "$$ u_{{i+1/2}}^{{n+1/2}}={\\frac  {1}{2}}(u_{{i+1}}^{n}+u_{{i}}^{n})-{\\frac  {\\Delta t}{2\\,\\Delta x}}(f(u_{{i+1}}^{n})-f(u_{{i}}^{n})) $$\n",
    "\n",
    "$$ u_{{i-1/2}}^{{n+1/2}}={\\frac  {1}{2}}(u_{{i}}^{n}+u_{{i-1}}^{n})-{\\frac  {\\Delta t}{2\\,\\Delta x}}(f(u_{{i}}^{n})-f(u_{{i-1}}^{n})) $$\n",
    "\n",
    "$$ u_{i}^{{n+1}}=u_{i}^{n}-{\\frac  {\\Delta t}{\\Delta x}}\\left[f(u_{{i+1/2}}^{{n+1/2}})-f(u_{{i-1/2}}^{{n+1/2}})\\right] $$"
   ]
  },
  {
   "cell_type": "code",
   "execution_count": null,
   "metadata": {
    "collapsed": true
   },
   "outputs": [],
   "source": []
  }
 ],
 "metadata": {
  "kernelspec": {
   "display_name": "Python [default]",
   "language": "python",
   "name": "python3"
  },
  "language_info": {
   "codemirror_mode": {
    "name": "ipython",
    "version": 3
   },
   "file_extension": ".py",
   "mimetype": "text/x-python",
   "name": "python",
   "nbconvert_exporter": "python",
   "pygments_lexer": "ipython3",
   "version": "3.5.4"
  }
 },
 "nbformat": 4,
 "nbformat_minor": 2
}
