{
 "cells": [
  {
   "cell_type": "markdown",
   "metadata": {},
   "source": [
    "# WLR Equation using Finite Difference"
   ]
  },
  {
   "cell_type": "markdown",
   "metadata": {},
   "source": [
    "## Lax-Wendroff Scheme"
   ]
  },
  {
   "cell_type": "code",
   "execution_count": 21,
   "metadata": {},
   "outputs": [
    {
     "name": "stdout",
     "output_type": "stream",
     "text": [
      "Using matplotlib backend: Qt5Agg\n"
     ]
    },
    {
     "name": "stderr",
     "output_type": "stream",
     "text": [
      "C:\\Users\\btemo\\Anaconda3\\lib\\site-packages\\matplotlib\\backend_bases.py:2453: MatplotlibDeprecationWarning: Using default event loop until function specific to this GUI is implemented\n",
      "  warnings.warn(str, mplDeprecation)\n"
     ]
    }
   ],
   "source": [
    "import numpy as np\n",
    "import scipy as sc\n",
    "import matplotlib.pyplot as plt\n",
    "%matplotlib\n",
    "\n",
    "#Parameters\n",
    "Nx = 100\n",
    "Nt = 100\n",
    "L  = 1. # Total Length\n",
    "T  = 1.2 # Total intergration time\n",
    "dx = L/(Nx-1)\n",
    "dt = T/Nt\n",
    "\n",
    "#initial conditions\n",
    "p0 = 0.2 + 0.1*(np.sin(np.arange(0,2*np.pi,2*np.pi/Nx)))\n",
    "#plt.plot(p0)\n",
    "P = np.copy(p0)\n",
    "\n",
    "for i in np.arange(0,T,dt):\n",
    "    P += -(dt/(2*dx))*(1-2*P)*(np.roll(P,-1)-np.roll(P,1)) + (dt**2/(2*dx**2))*((1-2*P)**2)*(np.roll(P,-1) -2*P + np.roll(P,1))  \n",
    "    line, = plt.plot(P)\n",
    "    plt.draw()\n",
    "    plt.pause(0.01)\n",
    "    line.remove()"
   ]
  },
  {
   "cell_type": "markdown",
   "metadata": {},
   "source": [
    "## Lax-Freidrich Scheme"
   ]
  },
  {
   "cell_type": "code",
   "execution_count": 20,
   "metadata": {},
   "outputs": [
    {
     "name": "stderr",
     "output_type": "stream",
     "text": [
      "C:\\Users\\btemo\\Anaconda3\\lib\\site-packages\\matplotlib\\backend_bases.py:2453: MatplotlibDeprecationWarning: Using default event loop until function specific to this GUI is implemented\n",
      "  warnings.warn(str, mplDeprecation)\n"
     ]
    }
   ],
   "source": [
    "L = np.copy(p0)\n",
    "\n",
    "for i in np.arange(0,T,dt):\n",
    "    L = -(dt/(2*dx))*(1-2*L)*(np.roll(L,-1)-np.roll(L,1)) + 0.5*(np.roll(L,-1)+np.roll(L,1))\n",
    "    line, = plt.plot(L)\n",
    "    plt.draw()\n",
    "    plt.pause(0.01)\n",
    "    line.remove()"
   ]
  },
  {
   "cell_type": "code",
   "execution_count": null,
   "metadata": {
    "collapsed": true
   },
   "outputs": [],
   "source": []
  }
 ],
 "metadata": {
  "anaconda-cloud": {},
  "kernelspec": {
   "display_name": "Python [conda root]",
   "language": "python",
   "name": "conda-root-py"
  },
  "language_info": {
   "codemirror_mode": {
    "name": "ipython",
    "version": 3
   },
   "file_extension": ".py",
   "mimetype": "text/x-python",
   "name": "python",
   "nbconvert_exporter": "python",
   "pygments_lexer": "ipython3",
   "version": "3.5.4"
  }
 },
 "nbformat": 4,
 "nbformat_minor": 2
}
